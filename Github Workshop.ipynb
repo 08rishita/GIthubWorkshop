{
 "cells": [
  {
   "cell_type": "markdown",
   "metadata": {},
   "source": [
    "# Github SPS Workshop\n",
    "\n",
    "## Useful links (Will talk more about when mention)\n",
    "- Git GUI [Github Desktop Installation](https://desktop.github.com/download/)\n",
    "    - Windows Git [install link](https://git-scm.com/downloads/win)\n",
    "    - MacOS Git installation guide\n",
    "        1. Hit Command+Space to open your searchbar (or just open normally)\n",
    "        2. In your terminal, type `git --version`. \n",
    "        3. Accept the install\n",
    "- IDE: [Visual Studio Code Download](https://code.visualstudio.com/download)\n",
    "    - Python Extension for [VS Code](https://marketplace.visualstudio.com/items?itemName=ms-python.python)\n",
    "    - Jupyter Extension for [VS Code](https://marketplace.visualstudio.com/items?itemName=ms-toolsai.jupyter)\n",
    "    \n",
    "    \n"
   ]
  },
  {
   "cell_type": "markdown",
   "metadata": {},
   "source": [
    "# First Commit\n",
    "A git repository has already been made for everyone here to try and access. We're going to try and clone it."
   ]
  },
  {
   "cell_type": "markdown",
   "metadata": {},
   "source": [
    "# Extra Links\n",
    "- [Github Student Pack](https://education.github.com/pack)"
   ]
  },
  {
   "cell_type": "code",
   "execution_count": 1,
   "metadata": {},
   "outputs": [
    {
     "name": "stdout",
     "output_type": "stream",
     "text": [
      "RAHHHHHHHHHHHHHHH\n"
     ]
    }
   ],
   "source": [
    "print(\"RAHHHHHHHHHHHHHHH\")"
   ]
  }
 ],
 "metadata": {
  "kernelspec": {
   "display_name": "base",
   "language": "python",
   "name": "python3"
  },
  "language_info": {
   "codemirror_mode": {
    "name": "ipython",
    "version": 3
   },
   "file_extension": ".py",
   "mimetype": "text/x-python",
   "name": "python",
   "nbconvert_exporter": "python",
   "pygments_lexer": "ipython3",
   "version": "3.12.2"
  }
 },
 "nbformat": 4,
 "nbformat_minor": 2
}
